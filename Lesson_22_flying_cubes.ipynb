{
 "cells": [
  {
   "cell_type": "markdown",
   "metadata": {},
   "source": [
    "## Проецирование одной линии"
   ]
  },
  {
   "cell_type": "code",
   "execution_count": 2,
   "metadata": {},
   "outputs": [],
   "source": [
    "import tkinter as tk\n",
    "from collections import namedtuple\n",
    "\n",
    "\n",
    "WIDTH, HEIGHT = 1280, 720\n",
    "EDGE = 50\n",
    "PERSPECTIVE = int(WIDTH * 1.7)\n",
    "\n",
    "Vector = namedtuple(\"Vector\", [\"x\", \"y\", \"z\"])\n",
    "\n",
    "def vector_plus(a, b):\n",
    "    return Vector(a.x + b.x, a.y + b.y, a.z + b.z)\n",
    "\n",
    "\n",
    "class Parallelepiped:\n",
    "    def __init__(self, anchor_point: Vector, a: Vector, b: Vector, c: Vector):\n",
    "        self._anchor = anchor_point\n",
    "        self._a = a\n",
    "        self._b = b\n",
    "        self._c = c\n",
    "        \n",
    "    def get_points(self):\n",
    "        A1 = self._anchor\n",
    "        B1 = vector_plus(A1, self._b)\n",
    "        C1 = vector_plus(A1, self._a)\n",
    "        D1 = vector_plus(vector_plus(A1, self._b), self._a)\n",
    "        A2 = vector_plus(self._anchor, self._c)\n",
    "        B2 = vector_plus(A2, self._b)\n",
    "        C2 = vector_plus(A2, self._a)\n",
    "        D2 = vector_plus(vector_plus(A2, self._b), self._a)\n",
    "        return A1, B1, C1, D1, A2, B2, C2, D2\n",
    "    \n",
    "    def show(self, canvas):\n",
    "        A1, B1, C1, D1, A2, B2, C2, D2 = self.get_points()\n",
    "        for point1, point2 in [(A1, A2), (B1, B2), (C1, C2), (D1, D2), \n",
    "                               (A1, B1), (A1, C1), (C1, D1), (B1, D1), \n",
    "                               (A2, B2), (A2, C2), (C2, D2), (B2, D2)]:\n",
    "            canvas.create_line(*project(*point1), *project(*point2), fill=\"black\")\n",
    "            \n",
    "        "
   ]
  },
  {
   "cell_type": "code",
   "execution_count": 5,
   "metadata": {},
   "outputs": [
    {
     "name": "stdout",
     "output_type": "stream",
     "text": [
      "Game over!\n"
     ]
    }
   ],
   "source": [
    "def project(x: float, y: float, z: float):\n",
    "    factor = PERSPECTIVE / z\n",
    "    screen_x = int(x * factor + WIDTH / 2)\n",
    "    screen_y = int(-y * factor + HEIGHT / 2)\n",
    "    return (screen_x, screen_y)\n",
    "\n",
    "\n",
    "def initilization():\n",
    "    global root, canvas\n",
    "    root = tk.Tk()\n",
    "    root.geometry(f\"{WIDTH}x{HEIGHT}\")\n",
    "    canvas = tk.Canvas(root, height=HEIGHT, width=WIDTH,\n",
    "                        background=\"lightblue\")\n",
    "    canvas.pack()\n",
    "    canvas.bind(\"<Button-1>\", handle_click)\n",
    "    \n",
    "def handle_click(event):\n",
    "    global layer_z, layer_dz\n",
    "    layer_z = PERSPECTIVE * 2\n",
    "    layer_dz = -10\n",
    "    show_all_cubes()\n",
    "    \n",
    "def show_all_cubes():\n",
    "    global layer_z, layer_dz\n",
    "    canvas.delete(\"all\")\n",
    "    for dx in range(-7, 8):\n",
    "        for dy in range(-7, 8):\n",
    "            anchor = Vector(-EDGE / 2 + 2 * dx * EDGE, -EDGE / 2 + 2 * dy * EDGE, layer_z)\n",
    "            a = Vector(EDGE, 0, 0)\n",
    "            b = Vector(0, EDGE, 0)\n",
    "            c = Vector(0, 0, EDGE)\n",
    "            cube = Parallelepiped(anchor, a, b, c)\n",
    "            cube.show(canvas)\n",
    "    layer_z += layer_dz\n",
    "    canvas.after(50, show_all_cubes)\n",
    "\n",
    "def main():\n",
    "    initilization()\n",
    "    root.mainloop()\n",
    "    print(\"Game over!\")\n",
    "    \n",
    "main()"
   ]
  },
  {
   "cell_type": "code",
   "execution_count": null,
   "metadata": {},
   "outputs": [],
   "source": []
  },
  {
   "cell_type": "code",
   "execution_count": null,
   "metadata": {},
   "outputs": [],
   "source": []
  },
  {
   "cell_type": "code",
   "execution_count": null,
   "metadata": {},
   "outputs": [],
   "source": []
  }
 ],
 "metadata": {
  "kernelspec": {
   "display_name": "Python 3",
   "language": "python",
   "name": "python3"
  },
  "language_info": {
   "codemirror_mode": {
    "name": "ipython",
    "version": 3
   },
   "file_extension": ".py",
   "mimetype": "text/x-python",
   "name": "python",
   "nbconvert_exporter": "python",
   "pygments_lexer": "ipython3",
   "version": "3.8.5"
  }
 },
 "nbformat": 4,
 "nbformat_minor": 4
}
